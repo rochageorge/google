{
 "cells": [
  {
   "cell_type": "markdown",
   "id": "d7e59301",
   "metadata": {},
   "source": [
    "Elevator Maintenance\n",
    "====================\n",
    "\n",
    "You've been assigned the onerous task of elevator maintenance -- ugh! It wouldn't be so bad, except that all the elevator documentation has been lying in a disorganized pile at the bottom of a filing cabinet for years, and you don't even know what elevator version numbers you'll be working on. \n",
    "\n",
    "Elevator versions are represented by a series of numbers, divided up into major, minor and revision integers. New versions of an elevator increase the major number, e.g. 1, 2, 3, and so on. When new features are added to an elevator without being a complete new version, a second number named \"minor\" can be used to represent those new additions, e.g. 1.0, 1.1, 1.2, etc. Small fixes or maintenance work can be represented by a third number named \"revision\", e.g. 1.1.1, 1.1.2, 1.2.0, and so on. The number zero can be used as a major for pre-release versions of elevators, e.g. 0.1, 0.5, 0.9.2, etc (Commander Lambda is careful to always beta test her new technology, with her loyal henchmen as subjects!).\n",
    "\n",
    "Given a list of elevator versions represented as strings, write a function solution(l) that returns the same list sorted in ascending order by major, minor, and revision number so that you can identify the current elevator version. The versions in list l will always contain major numbers, but minor and revision numbers are optional. If the version contains a revision number, then it will also have a minor number.\n",
    "\n",
    "For example, given the list l as [\"1.1.2\", \"1.0\", \"1.3.3\", \"1.0.12\", \"1.0.2\"], the function solution(l) would return the list [\"1.0\", \"1.0.2\", \"1.0.12\", \"1.1.2\", \"1.3.3\"]. If two or more versions are equivalent but one version contains more numbers than the others, then these versions must be sorted ascending based on how many numbers they have, e.g [\"1\", \"1.0\", \"1.0.0\"]. The number of elements in the list l will be at least 1 and will not exceed 100.\n",
    "\n",
    "Languages\n",
    "=========\n",
    "\n",
    "To provide a Python solution, edit solution.py\n",
    "To provide a Java solution, edit Solution.java\n",
    "\n",
    "Test cases\n",
    "==========\n",
    "Your code should pass the following test cases.\n",
    "Note that it may also be run against hidden test cases not shown here.\n",
    "\n",
    "-- Python cases --\n",
    "\n",
    "    Input:\n",
    "    solution.solution([\"1.11\", \"2.0.0\", \"1.2\", \"2\", \"0.1\", \"1.2.1\", \"1.1.1\", \"2.0\"])\n",
    "    Output:\n",
    "        0.1,1.1.1,1.2,1.2.1,1.11,2,2.0,2.0.0\n",
    "\n",
    "    Input:\n",
    "    solution.solution([\"1.1.2\", \"1.0\", \"1.3.3\", \"1.0.12\", \"1.0.2\"])\n",
    "    Output:\n",
    "        1.0,1.0.2,1.0.12,1.1.2,1.3.3"
   ]
  },
  {
   "cell_type": "code",
   "execution_count": 33,
   "id": "a6c03424",
   "metadata": {},
   "outputs": [],
   "source": [
    "l1 = [\"1.11\", \"2.0.0\", \"1.2\", \"2\", \"0.1\", \"1.2.1\", \"1.1.1\", \"2.0\"]\n",
    "l2 = [\"1.1.2\", \"1.0\", \"1.3.3\", \"1.0.12\", \"1.0.2\"]"
   ]
  },
  {
   "cell_type": "code",
   "execution_count": 26,
   "id": "403b82a3",
   "metadata": {},
   "outputs": [
    {
     "data": {
      "text/plain": [
       "['1.0', '1.0.12', '1.0.2', '1.1.2', '1.3.3']"
      ]
     },
     "execution_count": 26,
     "metadata": {},
     "output_type": "execute_result"
    }
   ],
   "source": [
    "sorted(l2)"
   ]
  },
  {
   "cell_type": "code",
   "execution_count": 127,
   "id": "884967d4",
   "metadata": {},
   "outputs": [
    {
     "data": {
      "text/plain": [
       "['0.1', '1.1.1', '1.2', '1.2.1', '1.11', '2', '2.0', '2.0.0']"
      ]
     },
     "execution_count": 127,
     "metadata": {},
     "output_type": "execute_result"
    }
   ],
   "source": [
    "sorted(l1, key=lambda l1:[int(i) for i in l1.split('.')])"
   ]
  },
  {
   "cell_type": "code",
   "execution_count": null,
   "id": "49c8ba37",
   "metadata": {},
   "outputs": [],
   "source": []
  }
 ],
 "metadata": {
  "kernelspec": {
   "display_name": "Python 3",
   "language": "python",
   "name": "python3"
  },
  "language_info": {
   "codemirror_mode": {
    "name": "ipython",
    "version": 3
   },
   "file_extension": ".py",
   "mimetype": "text/x-python",
   "name": "python",
   "nbconvert_exporter": "python",
   "pygments_lexer": "ipython3",
   "version": "3.6.9"
  }
 },
 "nbformat": 4,
 "nbformat_minor": 5
}
