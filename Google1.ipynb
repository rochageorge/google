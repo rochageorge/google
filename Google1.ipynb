{
 "cells": [
  {
   "cell_type": "markdown",
   "id": "596d4d3a",
   "metadata": {},
   "source": [
    "Minion Work Assignments\n",
    "=======================\n",
    "\n",
    "Commander Lambda's minions are upset! They're given the worst jobs on the whole space station, and some of them are starting to complain that even those worst jobs are being allocated unfairly. If you can fix this problem, it'll prove your chops to Commander Lambda so you can get promoted!\n",
    "\n",
    "Minions' tasks are assigned by putting their ID numbers into a list, one time for each day they'll work that task. As shifts are planned well in advance, the lists for each task will contain up to 99 integers. When a minion is scheduled for the same task too many times, they'll complain about it until they're taken off the task completely. Some tasks are worse than others, so the number of scheduled assignments before a minion will refuse to do a task varies depending on the task.  You figure you can speed things up by automating the removal of the minions who have been assigned a task too many times before they even get a chance to start complaining.\n",
    "\n",
    "Write a function called solution(data, n) that takes in a list of less than 100 integers and a number n, and returns that same list but with all of the numbers that occur more than n times removed entirely. The returned list should retain the same ordering as the original list - you don't want to mix up those carefully-planned shift rotations! For instance, if data was [5, 10, 15, 10, 7] and n was 1, solution(data, n) would return the list [5, 15, 7] because 10 occurs twice, and thus was removed from the list entirely.\n",
    "\n",
    "Languages\n",
    "=========\n",
    "\n",
    "    To provide a Python solution, edit solution.py\n",
    "    To provide a Java solution, edit Solution.java\n",
    "\n",
    "Test cases\n",
    "==========\n",
    "    Your code should pass the following test cases.\n",
    "    Note that it may also be run against hidden test cases not shown here.\n",
    "    \n"
   ]
  },
  {
   "cell_type": "code",
   "execution_count": 59,
   "id": "4681afce",
   "metadata": {},
   "outputs": [],
   "source": [
    "def solution3(data, n): \n",
    "    \n",
    "    # dic_keys = list(set(data))\n",
    "    # dic_values = [data.count(key) for key in dic_keys]\n",
    "    # count_dic = dict(zip(dic_keys,dic_values))\n",
    "    \n",
    "    # final_list = [item[0] for item in count_dic.items() if item[1]<=n]\n",
    "    \n",
    "    # count_dic=Counter(data)\n",
    "    # final_list=list(OrderedDict.fromkeys(data))  \n",
    "    \n",
    "    # for number, quantity in count_dic.items():\n",
    "    #     if quantity > n:\n",
    "    #         final_list.remove(number)\n",
    "\n",
    "    res = [key for key in data if data.count(key) <= n]\n",
    "    \n",
    "    return res"
   ]
  },
  {
   "cell_type": "code",
   "execution_count": null,
   "id": "b5714c83",
   "metadata": {},
   "outputs": [],
   "source": []
  },
  {
   "cell_type": "code",
   "execution_count": null,
   "id": "3bd521d1",
   "metadata": {},
   "outputs": [],
   "source": []
  }
 ],
 "metadata": {
  "kernelspec": {
   "display_name": "Python 3",
   "language": "python",
   "name": "python3"
  },
  "language_info": {
   "codemirror_mode": {
    "name": "ipython",
    "version": 3
   },
   "file_extension": ".py",
   "mimetype": "text/x-python",
   "name": "python",
   "nbconvert_exporter": "python",
   "pygments_lexer": "ipython3",
   "version": "3.6.9"
  }
 },
 "nbformat": 4,
 "nbformat_minor": 5
}
