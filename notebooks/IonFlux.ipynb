{
 "cells": [
  {
   "cell_type": "markdown",
   "id": "a3e8250d",
   "metadata": {},
   "source": [
    "Ion Flux Relabeling\n",
    "===================\n",
    "\n",
    "Oh no! Commander Lambda's latest experiment to improve the efficiency of the LAMBCHOP doomsday device has backfired spectacularly. The Commander had been improving the structure of the ion flux converter tree, but something went terribly wrong and the flux chains exploded. Some of the ion flux converters survived the explosion intact, but others had their position labels blasted off. Commander Lambda is having her henchmen rebuild the ion flux converter tree by hand, but you think you can do it much more quickly -- quickly enough, perhaps, to earn a promotion!\n",
    "\n",
    "Flux chains require perfect binary trees, so Lambda's design arranged the ion flux converters to form one. To label them, Lambda performed a post-order traversal of the tree of converters and labeled each converter with the order of that converter in the traversal, starting at 1. For example, a tree of 7 converters would look like the following:\n",
    "\n",
    "   7\n",
    " 3   6\n",
    "1 2 4 5\n",
    "\n",
    "Write a function solution(h, q) - where h is the height of the perfect tree of converters and q is a list of positive integers representing different flux converters - which returns a list of integers p where each element in p is the label of the converter that sits on top of the respective converter in q, or -1 if there is no such converter.  For example, solution(3, [1, 4, 7]) would return the converters above the converters at indexes 1, 4, and 7 in a perfect binary tree of height 3, which is [3, 6, -1].\n",
    "\n",
    "The domain of the integer h is 1 <= h <= 30, where h = 1 represents a perfect binary tree containing only the root, h = 2 represents a perfect binary tree with the root and two leaf nodes, h = 3 represents a perfect binary tree with the root, two internal nodes and four leaf nodes (like the example above), and so forth.  The lists q and p contain at least one but no more than 10000 distinct integers, all of which will be between 1 and 2^h-1, inclusive.\n",
    "\n",
    "Languages\n",
    "=========\n",
    "\n",
    "To provide a Java solution, edit Solution.java\n",
    "To provide a Python solution, edit solution.py\n",
    "\n",
    "Test cases\n",
    "==========\n",
    "Your code should pass the following test cases.\n",
    "Note that it may also be run against hidden test cases not shown here.\n",
    "\n",
    "    -- Java cases --\n",
    "    Input:\n",
    "    Solution.solution(5, {19, 14, 28})\n",
    "    Output:\n",
    "        21,15,29\n",
    "\n",
    "    Input:\n",
    "    Solution.solution(3, {7, 3, 5, 1})\n",
    "    Output:\n",
    "        -1,7,6,3\n",
    "\n",
    "    -- Python cases --\n",
    "    Input:\n",
    "    solution.solution(3, [7, 3, 5, 1])\n",
    "    Output:\n",
    "        -1,7,6,3\n",
    "\n",
    "    Input:\n",
    "    solution.solution(5, [19, 14, 28])\n",
    "    Output:\n",
    "        21,15,29"
   ]
  },
  {
   "cell_type": "code",
   "execution_count": 17,
   "id": "a6b12dba",
   "metadata": {},
   "outputs": [],
   "source": [
    "#not my solution\n",
    "\n",
    "def process_converter(max_idx, converter):\n",
    "    prev_node = -1\n",
    "    current_node = max_idx\n",
    "    # The subtree is how many elements we have in total for a node\n",
    "    subtree = max_idx\n",
    "\n",
    "    if current_node == converter:\n",
    "        return prev_node\n",
    "\n",
    "    prev_node = current_node\n",
    "\n",
    "    while subtree > 1:\n",
    "        # As we go down through the tree, each level reduces the number by half, which is the same as\n",
    "#         shifting 1 bit\n",
    "        subtree = subtree >> 1\n",
    "\n",
    "        left = current_node - subtree - 1\n",
    "        right = current_node - 1\n",
    "\n",
    "        if converter == left or converter == right:\n",
    "            return prev_node\n",
    "\n",
    "        if converter < left:\n",
    "            current_node = left\n",
    "        elif converter > left:\n",
    "            current_node = right\n",
    "\n",
    "        prev_node = current_node\n",
    "\n",
    "    return -1\n",
    "\n",
    "def solution(h, q):\n",
    "    max_idx = 2**h-1\n",
    "    return [process_converter(max_idx, converter) for converter in q]"
   ]
  },
  {
   "cell_type": "code",
   "execution_count": 20,
   "id": "65542918",
   "metadata": {},
   "outputs": [
    {
     "data": {
      "text/plain": [
       "[21, 15, 29]"
      ]
     },
     "execution_count": 20,
     "metadata": {},
     "output_type": "execute_result"
    }
   ],
   "source": [
    "h = 5\n",
    "q = [19, 14, 28]\n",
    "solution(h,q)"
   ]
  },
  {
   "cell_type": "code",
   "execution_count": null,
   "id": "3908a2f5",
   "metadata": {},
   "outputs": [],
   "source": []
  }
 ],
 "metadata": {
  "kernelspec": {
   "display_name": "Python 3",
   "language": "python",
   "name": "python3"
  },
  "language_info": {
   "codemirror_mode": {
    "name": "ipython",
    "version": 3
   },
   "file_extension": ".py",
   "mimetype": "text/x-python",
   "name": "python",
   "nbconvert_exporter": "python",
   "pygments_lexer": "ipython3",
   "version": "3.6.9"
  }
 },
 "nbformat": 4,
 "nbformat_minor": 5
}
